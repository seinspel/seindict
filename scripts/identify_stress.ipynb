{
 "cells": [
  {
   "cell_type": "code",
   "execution_count": 30,
   "metadata": {},
   "outputs": [],
   "source": [
    "from pathlib import Path\n",
    "from enum import Enum, auto"
   ]
  },
  {
   "cell_type": "code",
   "execution_count": 2,
   "metadata": {},
   "outputs": [],
   "source": [
    "from utils import read_yaml_file, YAML_FILES"
   ]
  },
  {
   "cell_type": "code",
   "execution_count": 4,
   "metadata": {},
   "outputs": [],
   "source": [
    "base_path = Path(\"..\") / \"entries\"\n",
    "entries = {}\n",
    "for yaml_file in YAML_FILES:\n",
    "    yaml_path = base_path / yaml_file\n",
    "    yaml_obj, dictionary = read_yaml_file(yaml_path)\n",
    "    entries.update(dictionary)"
   ]
  },
  {
   "cell_type": "code",
   "execution_count": 5,
   "metadata": {},
   "outputs": [
    {
     "data": {
      "text/plain": [
       "38825"
      ]
     },
     "execution_count": 5,
     "metadata": {},
     "output_type": "execute_result"
    }
   ],
   "source": [
    "len(entries)"
   ]
  },
  {
   "cell_type": "code",
   "execution_count": 8,
   "metadata": {},
   "outputs": [
    {
     "data": {
      "text/plain": [
       "('A', ordereddict([('det', 'EY1'), ('noun', 'EY1')]))"
      ]
     },
     "execution_count": 8,
     "metadata": {},
     "output_type": "execute_result"
    }
   ],
   "source": [
    "next(iter(entries.items()))"
   ]
  },
  {
   "cell_type": "code",
   "execution_count": 22,
   "metadata": {},
   "outputs": [],
   "source": [
    "def apply(entries, func):\n",
    "    count = 0\n",
    "    for value in entries.values():\n",
    "        if isinstance(value, str):\n",
    "            count += func(value.split())\n",
    "        elif isinstance(value, list):\n",
    "            for item in value:\n",
    "                count += func(item.split())\n",
    "        elif isinstance(value, dict):\n",
    "            for item in value.values():\n",
    "                count += func(item.split())\n",
    "    return count"
   ]
  },
  {
   "cell_type": "code",
   "execution_count": 23,
   "metadata": {},
   "outputs": [],
   "source": [
    "def stressed(ph):\n",
    "    return ph[-1] == \"1\""
   ]
  },
  {
   "cell_type": "code",
   "execution_count": 36,
   "metadata": {},
   "outputs": [],
   "source": [
    "def unstressed(ph):\n",
    "    return ph[-1] in (\"0\", \"2\", \"ə\") or ph == \"əR\""
   ]
  },
  {
   "cell_type": "code",
   "execution_count": 37,
   "metadata": {},
   "outputs": [],
   "source": [
    "def vowel(ph):\n",
    "    return ph[-1] in (\"0\", \"1\", \"2\", \"ə\") or ph == \"əR\""
   ]
  },
  {
   "cell_type": "code",
   "execution_count": 38,
   "metadata": {},
   "outputs": [],
   "source": [
    "class ST(Enum):\n",
    "    unknown = auto()\n",
    "    unstressed = auto()\n",
    "    stressed = auto()"
   ]
  },
  {
   "cell_type": "code",
   "execution_count": 39,
   "metadata": {},
   "outputs": [],
   "source": [
    "def penultimate(phonemes):\n",
    "    ph_revs = reversed(phonemes)\n",
    "    last = ST.unknown\n",
    "    for ph in ph_revs:\n",
    "        if last == ST.unknown:\n",
    "            if unstressed(ph):\n",
    "                last = ST.unstressed\n",
    "                continue\n",
    "            elif stressed(ph):\n",
    "                last = ST.stressed\n",
    "                continue\n",
    "        elif last == ST.unstressed:\n",
    "            if unstressed(ph):\n",
    "                return 0  # last two syllables are both unstressed\n",
    "            elif stressed(ph):\n",
    "                return 1  # pattern fits!\n",
    "        elif last == ST.stressed:\n",
    "            if vowel(ph):  # last syllable was stressed and there is more than one syllable!\n",
    "                return 0\n",
    "    return 1  # one syllable word"
   ]
  },
  {
   "cell_type": "code",
   "execution_count": 42,
   "metadata": {},
   "outputs": [],
   "source": [
    "assert penultimate(\"S EY1\".split())\n",
    "assert not penultimate(\"S ə P OHR1 T\".split())\n",
    "assert penultimate(\"S UR1 N EY2 M\".split())\n",
    "assert penultimate(\"S ə S P EH1 N SH ə N\".split())\n",
    "# assert penultimate(\"S EY1\".split()) == 1\n",
    "# assert penultimate(\"S EY1\".split()) == 1\n",
    "# assert penultimate(\"S EY1\".split()) == 1"
   ]
  },
  {
   "cell_type": "code",
   "execution_count": 43,
   "metadata": {},
   "outputs": [
    {
     "data": {
      "text/plain": [
       "25991"
      ]
     },
     "execution_count": 43,
     "metadata": {},
     "output_type": "execute_result"
    }
   ],
   "source": [
    "apply(entries, penultimate)"
   ]
  },
  {
   "cell_type": "code",
   "execution_count": null,
   "metadata": {},
   "outputs": [],
   "source": []
  }
 ],
 "metadata": {
  "kernelspec": {
   "display_name": "Python 3",
   "language": "python",
   "name": "python3"
  },
  "language_info": {
   "codemirror_mode": {
    "name": "ipython",
    "version": 3
   },
   "file_extension": ".py",
   "mimetype": "text/x-python",
   "name": "python",
   "nbconvert_exporter": "python",
   "pygments_lexer": "ipython3",
   "version": "3.8.2"
  }
 },
 "nbformat": 4,
 "nbformat_minor": 4
}
