{
 "cells": [
  {
   "cell_type": "code",
   "execution_count": 1,
   "metadata": {},
   "outputs": [],
   "source": [
    "from pathlib import Path\n",
    "from utils import apply"
   ]
  },
  {
   "cell_type": "code",
   "execution_count": 2,
   "metadata": {},
   "outputs": [
    {
     "data": {
      "text/plain": [
       "333333"
      ]
     },
     "execution_count": 2,
     "metadata": {},
     "output_type": "execute_result"
    }
   ],
   "source": [
    "with open(\"../count_1w.txt\", \"r\") as f:\n",
    "    most_common_words = [line.split(\"\\t\")[0] for line in f.readlines()]\n",
    "# most_common_words = most_common_words[:200_000]\n",
    "len(most_common_words)"
   ]
  },
  {
   "cell_type": "code",
   "execution_count": 3,
   "metadata": {},
   "outputs": [],
   "source": [
    "def is_derived_word(dictionary, word):\n",
    "    if \"'\" in word:\n",
    "        return True\n",
    "    if word[-1] == \"S\":\n",
    "        # check if the base form exists\n",
    "        base_words = [word[:-1]]\n",
    "        form_name = \"plural/third-person\"\n",
    "    elif word[-2:] == \"ED\":\n",
    "        # check if the base form exists\n",
    "        base_words = [word[:-1], word[:-2], word[:-3]]\n",
    "        form_name = \"simple past\"\n",
    "    elif word[-3:] == \"ING\":\n",
    "        # check if the base form exists\n",
    "        base_words = [word[:-3], word[:-3] + \"E\", word[:-4]]\n",
    "        form_name = \"-ing\"\n",
    "    elif word[-2:] == \"LY\":\n",
    "        base_words = [word[:-2], word[:-3]]\n",
    "    else:\n",
    "        return False\n",
    "    if any(base_word in dictionary for base_word in base_words):\n",
    "#         print(f\"found {form_name} form: {word} (base forms: {base_words})\")\n",
    "        return True\n",
    "    return False"
   ]
  },
  {
   "cell_type": "code",
   "execution_count": 4,
   "metadata": {},
   "outputs": [],
   "source": [
    "def check_word(word, pronun, dictionary):\n",
    "    if word.lower() not in most_common_words:\n",
    "        if is_derived_word(dictionary, word):\n",
    "            print(f\"would have removed {word}, but it is a derived word\")\n",
    "            return True\n",
    "#             print(f\"Remove rare word: {word}\")\n",
    "        return False\n",
    "    return True"
   ]
  },
  {
   "cell_type": "code",
   "execution_count": 5,
   "metadata": {},
   "outputs": [
    {
     "name": "stdout",
     "output_type": "stream",
     "text": [
      "would have removed ABRAM'S, but it is a derived word\n",
      "would have removed ABRIDGES, but it is a derived word\n",
      "would have removed ACCOR'S, but it is a derived word\n",
      "would have removed ADAMES, but it is a derived word\n",
      "would have removed ADMINISTRATOR'S, but it is a derived word\n",
      "would have removed AFFINED, but it is a derived word\n",
      "would have removed AFFINING, but it is a derived word\n",
      "would have removed AFTERIMAGES, but it is a derived word\n",
      "would have removed AGANS, but it is a derived word\n",
      "would have removed AGINS, but it is a derived word\n",
      "would have removed AGONIZES, but it is a derived word\n",
      "would have removed AIN'T, but it is a derived word\n",
      "would have removed AINSWORTH'S, but it is a derived word\n",
      "would have removed AIRCAL'S, but it is a derived word\n",
      "would have removed AIRFORCES, but it is a derived word\n",
      "would have removed AIRPLANE'S, but it is a derived word\n",
      "would have removed AIRSPACES, but it is a derived word\n",
      "would have removed AIRWAYS'S, but it is a derived word\n",
      "would have removed AIRWING, but it is a derived word\n",
      "would have removed AKERS'S, but it is a derived word\n",
      "would have removed ALBERDING, but it is a derived word\n",
      "would have removed ALCOA'S, but it is a derived word\n",
      "would have removed ALMYS, but it is a derived word\n",
      "would have removed ALPHABETIZES, but it is a derived word\n",
      "would have removed ALYESKA'S, but it is a derived word\n",
      "would have removed AMARIS, but it is a derived word\n",
      "would have removed AMES'S, but it is a derived word\n",
      "would have removed AMEX'S, but it is a derived word\n",
      "would have removed AMTRAK'S, but it is a derived word\n",
      "would have removed ANDREW'S, but it is a derived word\n",
      "would have removed ANGELICALLY, but it is a derived word\n",
      "would have removed ANHEUSER'S, but it is a derived word\n",
      "would have removed ANTIGONE'S, but it is a derived word\n",
      "would have removed ANTIGONES, but it is a derived word\n",
      "would have removed ANTONELLIS, but it is a derived word\n",
      "would have removed ANTONIU'S, but it is a derived word\n",
      "would have removed ANYONE'LL, but it is a derived word\n",
      "would have removed APARTHEID'S, but it is a derived word\n",
      "would have removed APPARATED, but it is a derived word\n",
      "would have removed APPARATING, but it is a derived word\n",
      "would have removed APPRISES, but it is a derived word\n",
      "would have removed ARAFAT'S, but it is a derived word\n",
      "would have removed ARBED, but it is a derived word\n",
      "would have removed ARBITRAGING, but it is a derived word\n",
      "would have removed AREN'T, but it is a derived word\n",
      "would have removed ARIAS'S, but it is a derived word\n",
      "would have removed ARMESTED, but it is a derived word\n",
      "would have removed ASKERS'S, but it is a derived word\n",
      "would have removed ASKIN'S, but it is a derived word\n",
      "would have removed ASPIRIN'S, but it is a derived word\n",
      "would have removed ASTRED, but it is a derived word\n",
      "would have removed AUSTERELY, but it is a derived word\n",
      "would have removed AVANTS, but it is a derived word\n",
      "would have removed AVON'S, but it is a derived word\n",
      "would have removed AYER'S, but it is a derived word\n",
      "removed 0 entries in A.yaml\n"
     ]
    }
   ],
   "source": [
    "apply(check_word, save_deleted_words=Path(\"..\") / \"rare_words.yaml\", only_first_file=True)"
   ]
  },
  {
   "cell_type": "code",
   "execution_count": null,
   "metadata": {},
   "outputs": [],
   "source": []
  }
 ],
 "metadata": {
  "kernelspec": {
   "display_name": "Python 3",
   "language": "python",
   "name": "python3"
  },
  "language_info": {
   "codemirror_mode": {
    "name": "ipython",
    "version": 3
   },
   "file_extension": ".py",
   "mimetype": "text/x-python",
   "name": "python",
   "nbconvert_exporter": "python",
   "pygments_lexer": "ipython3",
   "version": "3.7.1"
  }
 },
 "nbformat": 4,
 "nbformat_minor": 2
}
