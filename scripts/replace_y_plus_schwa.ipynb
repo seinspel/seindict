{
 "cells": [
  {
   "cell_type": "code",
   "execution_count": 3,
   "metadata": {},
   "outputs": [],
   "source": [
    "from utils import apply, FindAndReplace, Replacement"
   ]
  },
  {
   "cell_type": "code",
   "execution_count": 17,
   "metadata": {},
   "outputs": [],
   "source": [
    "spelling_patterns = [\n",
    "#     \"(?<![A])U\",\n",
    "    \"IO\",\n",
    "]\n",
    "phoneme_patterns = [\n",
    "    Replacement(\n",
    "        guard=f\"(?<![012]) Y ə(?!R)\",\n",
    "        source=f\"Y ə\",\n",
    "        target=f\"IA0\"\n",
    "    )\n",
    "#     for stress in (0, 1, 2)\n",
    "]"
   ]
  },
  {
   "cell_type": "code",
   "execution_count": 18,
   "metadata": {},
   "outputs": [],
   "source": [
    "overrides = {\n",
    "}\n",
    "\n",
    "# these are with NORTH vowel\n",
    "exclude = \"\"\"\n",
    "\n",
    "\"\"\".upper()\n"
   ]
  },
  {
   "cell_type": "code",
   "execution_count": 20,
   "metadata": {},
   "outputs": [
    {
     "name": "stdout",
     "output_type": "stream",
     "text": [
      "change 'AFICIONADO', new pronun: 'ə F EE2 SH ia0 N AH1 D OH0'\n",
      "changed 1 entries in A.yaml\n",
      "change 'BATTALION', new pronun: 'B ə T A1 L ia0 N'\n",
      "changed 1 entries in B.yaml\n",
      "change 'COMPANION', new pronun: 'K ə M P A1 N ia0 N'\n",
      "change 'COMPANIONSHIP', new pronun: 'K ə M P A1 N ia0 N SH IH2 P'\n",
      "change 'COMPANIONWAY', new pronun: 'K ə M P A1 N ia0 N W EY2'\n",
      "changed 3 entries in C.yaml\n",
      "change 'DOMINION', new pronun: 'D ə M IH1 N ia0 N'\n",
      "changed 1 entries in D.yaml\n",
      "nothing changed or removed in E.yaml\n",
      "nothing changed or removed in F.yaml\n",
      "nothing changed or removed in G.yaml\n",
      "nothing changed or removed in H.yaml\n",
      "nothing changed or removed in I.yaml\n",
      "change 'JILLION', new pronun: 'J IH1 L ia0 N'\n",
      "changed 1 entries in J.yaml\n",
      "nothing changed or removed in K.yaml\n",
      "nothing changed or removed in L.yaml\n",
      "change 'MEDALLION', new pronun: 'M ə D A1 L ia0 N'\n",
      "change 'MULTIMILLION', new pronun: 'M UH2 L T EE0 M IH1 L ia0 N'\n",
      "change 'MULTIMILLIONAIRE', new pronun: 'M UH2 L T EE0 M IH2 L ia0 N EIR1'\n",
      "changed 3 entries in M.yaml\n",
      "nothing changed or removed in N.yaml\n",
      "change 'ONION', new pronun: 'UH1 N ia0 N'\n",
      "change 'OPINION', new pronun: 'ə P IH1 N ia0 N'\n",
      "change 'OPINIONATED', new pronun: 'ə P IH1 N ia0 N EY2 T IH0 D'\n",
      "changed 3 entries in O.yaml\n",
      "change 'PAVILION', new pronun: 'P ə V IH1 L ia0 N'\n",
      "change 'PILLION', new pronun: 'P IH1 L ia0 N'\n",
      "change 'PINION', new pronun: 'P IH1 N ia0 N'\n",
      "change 'PYGMALION', new pronun: 'P IH2 G M EY1 L ia0 N'\n",
      "changed 4 entries in P.yaml\n",
      "nothing changed or removed in Q.yaml\n",
      "change 'REBELLION', new pronun: 'RR IH0 B EH1 L ia0 N'\n",
      "changed 1 entries in R.yaml\n",
      "change 'SCALLION', new pronun: 'S K A1 L ia0 N'\n",
      "changed 1 entries in S.yaml\n",
      "nothing changed or removed in T.yaml\n",
      "nothing changed or removed in U.yaml\n",
      "change 'VERMILION', new pronun: 'V əR M IH1 L ia0 N'\n",
      "change 'VERMILLION', new pronun: 'V əR M IH1 L ia0 N'\n",
      "changed 2 entries in V.yaml\n",
      "nothing changed or removed in W.yaml\n",
      "nothing changed or removed in X.yaml\n",
      "nothing changed or removed in Y.yaml\n",
      "change 'ZILLION', new pronun: 'Z IH1 L ia0 N'\n",
      "changed 1 entries in Z.yaml\n",
      "nothing changed or removed in _other.yaml\n"
     ]
    }
   ],
   "source": [
    "find_long_or = FindAndReplace(\n",
    "    spelling_patterns=spelling_patterns,\n",
    "    phoneme_patterns=phoneme_patterns,\n",
    "    overrides=overrides,\n",
    "    exclude=exclude,\n",
    "    leeway=2,\n",
    ")\n",
    "\n",
    "for_real = True\n",
    "find_long_or.is_active = for_real\n",
    "apply(\n",
    "    find_long_or,\n",
    "    save_result=for_real,\n",
    "    only_first_file=False,\n",
    "    mode=\"transform\",\n",
    ")"
   ]
  },
  {
   "cell_type": "code",
   "execution_count": 12,
   "metadata": {},
   "outputs": [
    {
     "name": "stdout",
     "output_type": "stream",
     "text": [
      "\n",
      "BORDER\n",
      "BORN\n",
      "CALIFORNIA\n",
      "CORPSE\n",
      "CYBORG\n",
      "FORK\n",
      "FORM\n",
      "FORTRESS\n",
      "FORTY\n",
      "IMPORTANT\n",
      "MORGUE\n",
      "MORNING\n",
      "MORSE\n",
      "MORSEL\n",
      "PORN\n",
      "SPORK\n",
      "WARN\n",
      "\n"
     ]
    }
   ],
   "source": [
    "print(exclude)"
   ]
  },
  {
   "cell_type": "code",
   "execution_count": 6,
   "metadata": {},
   "outputs": [
    {
     "data": {
      "text/plain": [
       "[Replacement(pattern='EY0(?= R [AEIOU])', source='EY0', target='EH0'),\n",
       " Replacement(pattern='EY1(?= R [AEIOU])', source='EY1', target='EH1'),\n",
       " Replacement(pattern='EY2(?= R [AEIOU])', source='EY2', target='EH2')]"
      ]
     },
     "execution_count": 6,
     "metadata": {},
     "output_type": "execute_result"
    }
   ],
   "source": [
    "phoneme_patterns"
   ]
  },
  {
   "cell_type": "code",
   "execution_count": null,
   "metadata": {},
   "outputs": [],
   "source": []
  }
 ],
 "metadata": {
  "kernelspec": {
   "display_name": "Python 3",
   "language": "python",
   "name": "python3"
  },
  "language_info": {
   "codemirror_mode": {
    "name": "ipython",
    "version": 3
   },
   "file_extension": ".py",
   "mimetype": "text/x-python",
   "name": "python",
   "nbconvert_exporter": "python",
   "pygments_lexer": "ipython3",
   "version": "3.7.7"
  }
 },
 "nbformat": 4,
 "nbformat_minor": 4
}
