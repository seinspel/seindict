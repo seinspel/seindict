{
 "cells": [
  {
   "cell_type": "code",
   "execution_count": 1,
   "metadata": {},
   "outputs": [],
   "source": [
    "import re\n",
    "from utils import apply, replace_digraphs"
   ]
  },
  {
   "cell_type": "code",
   "execution_count": 2,
   "metadata": {},
   "outputs": [],
   "source": [
    "# convert all AA to OH except before R and at the end of a word\n",
    "# MacOS:\n",
    "# find . -name  '*.yaml' -exec sed -i '' -e \"s/AA\\([012]\\) \\([^R]\\)/OH\\1 \\2/g\" {} \\;\n",
    "# Linux\n",
    "# find . -name  '*.yaml' -exec sed -i -e \"s/AA\\([012]\\) \\([^R]\\)/OH\\1 \\2/g\" {} \\;"
   ]
  },
  {
   "cell_type": "code",
   "execution_count": 3,
   "metadata": {},
   "outputs": [],
   "source": [
    "# ju = (\"Y UW0\", \"Y UW1\", \"Y UW2\")\n",
    "ju = (\"Y UH0\", \"Y UH1\", \"Y UH2\")"
   ]
  },
  {
   "cell_type": "code",
   "execution_count": 5,
   "metadata": {},
   "outputs": [],
   "source": [
    "overrides = {\n",
    "}\n",
    "\n",
    "exclude = \"\"\"\n",
    "\"\"\".split()\n",
    "\n",
    "def find_iu_glide(word, pronun, dictionary):\n",
    "    if word in overrides:\n",
    "        return overrides[word]\n",
    "    \n",
    "    if word in exclude:\n",
    "        return True\n",
    "\n",
    "    iu_indices = []\n",
    "    # replace digraphs with single letters so that the index calculation is more reliable\n",
    "    word_with_better_letters = replace_digraphs(word)\n",
    "    # (?<![Y])U(?![OIEUW])\n",
    "    for combo, offset in ((\"(?<![YAEO])U(?![IE])\", 0), (\"(?<![YI])EW\", 0), (\"(?<![YI])EU\", 0), (\"(?<![Y])UI\", 0), (\"(?<![Y])UE\", 0), (\"Ea\", 0), (\"IEW\", 0), (\"IEU\", 0)):\n",
    "        iu_indices += [m.start() + offset for m in re.finditer(combo, word_with_better_letters)]\n",
    "            \n",
    "    if not iu_indices:  # no suitable letters found\n",
    "        return True\n",
    "    \n",
    "    present_stresses = []\n",
    "    for vowel in ju:\n",
    "        if vowel in pronun:\n",
    "            stress = vowel[-1]\n",
    "            present_stresses.append(stress)\n",
    "    if not present_stresses:\n",
    "        return True\n",
    "\n",
    "    leeway = 1 if len(present_stresses) == 1 else 1  # if there is more than one candidate, don't get them mixed up\n",
    "\n",
    "    changed_anything = False\n",
    "    new_pronun = pronun\n",
    "    for stress in present_stresses:\n",
    "        vowel = f\"UH{stress}\"\n",
    "        new_pronun_split = new_pronun.split()\n",
    "        ju_index = new_pronun_split.index(vowel) - 1\n",
    "        if len(new_pronun_split) <= ju_index + 2 or new_pronun_split[ju_index + 2] != \"R\":\n",
    "            print(f\"probably no candiate '{word}', not followed by R: {pronun}\")\n",
    "            continue\n",
    "        if min(abs(iu_index - ju_index) for iu_index in iu_indices) > leeway:\n",
    "            print(f\"probably no candiate '{word}', letter indices: {iu_indices}, sound index: {ju_index}\")\n",
    "            continue\n",
    "        new_pronun = new_pronun.replace(\"Y \" + vowel, f\"IW{stress}\")\n",
    "        changed_anything = True\n",
    "    if not changed_anything:\n",
    "        return True\n",
    "    print(f\"change '{word.replace('U', 'u')}', new pronun: '{new_pronun.replace('IW', 'iw')}'\")\n",
    "    # return new_pronun\n",
    "    return True"
   ]
  },
  {
   "cell_type": "code",
   "execution_count": 6,
   "metadata": {},
   "outputs": [
    {
     "name": "stdout",
     "output_type": "stream",
     "text": [
      "nothing changed or removed in A.yaml\n",
      "nothing changed or removed in B.yaml\n",
      "nothing changed or removed in C.yaml\n",
      "nothing changed or removed in D.yaml\n",
      "nothing changed or removed in E.yaml\n",
      "nothing changed or removed in F.yaml\n",
      "nothing changed or removed in G.yaml\n",
      "nothing changed or removed in H.yaml\n",
      "nothing changed or removed in I.yaml\n",
      "probably no candiate 'JUNG', not followed by R: Y UH1 NG\n",
      "nothing changed or removed in J.yaml\n",
      "nothing changed or removed in K.yaml\n",
      "nothing changed or removed in L.yaml\n",
      "nothing changed or removed in M.yaml\n",
      "nothing changed or removed in N.yaml\n",
      "nothing changed or removed in O.yaml\n",
      "nothing changed or removed in P.yaml\n",
      "nothing changed or removed in Q.yaml\n",
      "nothing changed or removed in R.yaml\n",
      "nothing changed or removed in S.yaml\n",
      "nothing changed or removed in T.yaml\n",
      "nothing changed or removed in U.yaml\n",
      "nothing changed or removed in V.yaml\n",
      "nothing changed or removed in W.yaml\n",
      "nothing changed or removed in X.yaml\n",
      "nothing changed or removed in Y.yaml\n",
      "nothing changed or removed in Z.yaml\n",
      "nothing changed or removed in _other.yaml\n"
     ]
    }
   ],
   "source": [
    "apply(\n",
    "    find_iu_glide,\n",
    "    save_result=False,\n",
    "    only_first_file=False,\n",
    "    mode=\"transform\",\n",
    ")"
   ]
  },
  {
   "cell_type": "code",
   "execution_count": null,
   "metadata": {},
   "outputs": [],
   "source": []
  }
 ],
 "metadata": {
  "kernelspec": {
   "display_name": "Python 3",
   "language": "python",
   "name": "python3"
  },
  "language_info": {
   "codemirror_mode": {
    "name": "ipython",
    "version": 3
   },
   "file_extension": ".py",
   "mimetype": "text/x-python",
   "name": "python",
   "nbconvert_exporter": "python",
   "pygments_lexer": "ipython3",
   "version": "3.7.7"
  }
 },
 "nbformat": 4,
 "nbformat_minor": 4
}
