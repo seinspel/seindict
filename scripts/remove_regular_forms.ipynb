{
 "cells": [
  {
   "cell_type": "code",
   "execution_count": 1,
   "metadata": {},
   "outputs": [],
   "source": [
    "from collections import OrderedDict\n",
    "from utils import apply"
   ]
  },
  {
   "cell_type": "code",
   "execution_count": 2,
   "metadata": {},
   "outputs": [],
   "source": [
    "def check_existence(dictionary, word, pronunciation):\n",
    "    value = dictionary.get(word)\n",
    "    if value is None:\n",
    "        return False\n",
    "    if isinstance(value, str):\n",
    "        found_pronun: str = value\n",
    "        return pronunciation == found_pronun\n",
    "    elif isinstance(value, list):\n",
    "        found_pronun_list: List[str] = value\n",
    "        return any(pronunciation == found_pronun for found_pronun in found_pronun_list)\n",
    "    elif isinstance(value, OrderedDict):\n",
    "        found_pronun_dict: OrderedDict[str, str] = value\n",
    "        return any(pronunciation == found_pronun for found_pronun in found_pronun_dict.values())\n",
    "    else:\n",
    "        raise ValueError(f\"unexpected type: {type(value)}\")"
   ]
  },
  {
   "cell_type": "code",
   "execution_count": 3,
   "metadata": {},
   "outputs": [],
   "source": [
    "def is_regular_form(dictionary, word, pronun):\n",
    "    # first check for possessive form because it's a more specific check this has to come first\n",
    "    if word[-2:] == \"'S\" and pronun[-6:] == \" IH0 Z\":\n",
    "        base_word = word[:-2]\n",
    "        base_pronun = pronun[:-6]\n",
    "        form_name = \"possessive after sibilant\"\n",
    "    # less specific check for possessives\n",
    "    elif word[-2:] == \"'S\" and (pronun[-2:] == \" S\" or pronun[-2:] == \" Z\"):\n",
    "        base_word = word[:-2]\n",
    "        base_pronun = pronun[:-2]\n",
    "        form_name = \"possessive\"\n",
    "    # plural forms and third-person present verbs\n",
    "    elif word[-1] == \"S\" and (pronun[-2:] == \" S\" or pronun[-2:] == \" Z\"):\n",
    "        # check if the base form exists\n",
    "        base_word = word[:-1]\n",
    "        base_pronun = pronun[:-2]\n",
    "        form_name = \"plural/third-person\"\n",
    "    elif word[-2:] == \"ED\" and (pronun[-2:] == \" D\" or pronun[-2:] == \" T\"):\n",
    "        # check if the base form exists\n",
    "        base_word = word[:-2]\n",
    "        base_pronun = pronun[:-2]\n",
    "        form_name = \"simple past\"\n",
    "    elif word[-3:] == \"ING\" and pronun[-7:] == \" IH0 NG\":\n",
    "        # check if the base form exists\n",
    "        base_word = word[:-3]\n",
    "        base_pronun = pronun[:-7]\n",
    "        form_name = \"-ing\"\n",
    "    elif word[-3:] == \"LLY\" and pronun[-6:] == \" L IY0\":\n",
    "        # check if the base form exists\n",
    "        base_word = word[:-2]\n",
    "        base_pronun = pronun[:-4]\n",
    "        form_name = \"adverb (merged)\"\n",
    "    elif word[-2:] == \"LY\" and pronun[-6:] == \" L IY0\":\n",
    "        # check if the base form exists\n",
    "        base_word = word[:-2]\n",
    "        base_pronun = pronun[:-6]\n",
    "        form_name = \"adverb\"\n",
    "    else:\n",
    "        return False\n",
    "    if check_existence(dictionary, base_word, base_pronun):\n",
    "        if pronun[-2:] == \" S\" and pronun[-4:-2] not in (\" F\", \" K\", \" P\", \" T\", \"TH\"):\n",
    "            print(f\"not a regular form: {word} ({pronun}) (base form: {base_word})\")\n",
    "            return False\n",
    "        if pronun[-2:] == \" T\" and pronun[-4:-2] not in (\" F\", \" K\", \" P\", \" S\", \"SH\", \"CH\", \"TH\"):\n",
    "            print(f\"not a regular form: {word} ({pronun}) (base form: {base_word})\")\n",
    "            return False\n",
    "        print(f\"found {form_name} form: {word} (base form: {base_word})\")\n",
    "        return True\n",
    "    return False"
   ]
  },
  {
   "cell_type": "code",
   "execution_count": 4,
   "metadata": {},
   "outputs": [],
   "source": [
    "def single(word, pronun, dictionary):\n",
    "    if is_regular_form(dictionary, word, pronun):\n",
    "        return False\n",
    "    return True\n",
    "\n",
    "def p_list(word, pronun_list, dictionary):\n",
    "    for pronun in pronun_list:\n",
    "        if is_regular_form(dictionary, word, pronun):\n",
    "            return False\n",
    "    return True"
   ]
  },
  {
   "cell_type": "code",
   "execution_count": 5,
   "metadata": {},
   "outputs": [
    {
     "name": "stdout",
     "output_type": "stream",
     "text": [
      "found plural/third-person form: ADAMS (base form: ADAM)\n",
      "not a regular form: AGNES (AE1 G N IH0 S) (base form: AGNE)\n",
      "not a regular form: ALMOS (AA1 L M OW0 S) (base form: ALMO)\n",
      "not a regular form: ANAS (AE1 N AX S) (base form: ANA)\n",
      "not a regular form: ASTROS (AE1 S T R OW0 S) (base form: ASTRO)\n",
      "not a regular form: ATLAS (AE1 T L AX S) (base form: ATLA)\n",
      "removed 1 entries in A.yaml\n"
     ]
    }
   ],
   "source": [
    "apply(single, p_list, only_first_file=True)"
   ]
  },
  {
   "cell_type": "code",
   "execution_count": null,
   "metadata": {},
   "outputs": [],
   "source": []
  }
 ],
 "metadata": {
  "kernelspec": {
   "display_name": "Python 3",
   "language": "python",
   "name": "python3"
  },
  "language_info": {
   "codemirror_mode": {
    "name": "ipython",
    "version": 3
   },
   "file_extension": ".py",
   "mimetype": "text/x-python",
   "name": "python",
   "nbconvert_exporter": "python",
   "pygments_lexer": "ipython3",
   "version": "3.7.1"
  }
 },
 "nbformat": 4,
 "nbformat_minor": 2
}
