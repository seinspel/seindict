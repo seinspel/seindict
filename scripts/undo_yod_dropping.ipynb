{
 "cells": [
  {
   "cell_type": "code",
   "execution_count": 1,
   "metadata": {},
   "outputs": [],
   "source": [
    "from utils import apply, find_indices"
   ]
  },
  {
   "cell_type": "code",
   "execution_count": 2,
   "metadata": {},
   "outputs": [],
   "source": [
    "# convert all AA to OH except before R and at the end of a word\n",
    "# MacOS:\n",
    "# find . -name  '*.yaml' -exec sed -i '' -e \"s/AA\\([012]\\) \\([^R]\\)/OH\\1 \\2/g\" {} \\;\n",
    "# Linux\n",
    "# find . -name  '*.yaml' -exec sed -i -e \"s/AA\\([012]\\) \\([^R]\\)/OH\\1 \\2/g\" {} \\;"
   ]
  },
  {
   "cell_type": "code",
   "execution_count": 2,
   "metadata": {},
   "outputs": [],
   "source": [
    "goose = (\"UW0\", \"UW1\", \"UW2\")\n",
    "# ju = (\"Y UH0\", \"Y UH1\", \"Y UH2\")"
   ]
  },
  {
   "cell_type": "code",
   "execution_count": 5,
   "metadata": {},
   "outputs": [],
   "source": [
    "overrides = {\n",
    "}\n",
    "\n",
    "exclude = \"\"\"\n",
    "DUSSELDORF\n",
    "\"\"\".split()\n",
    "\n",
    "def find_missing_yod(word, pronun, dictionary):\n",
    "    if word in overrides:\n",
    "        return overrides[word]\n",
    "    \n",
    "    if word in exclude:\n",
    "        return True\n",
    "\n",
    "    iu_indices = find_indices(\n",
    "        word,\n",
    "        [\n",
    "            \"(?<=[TDN])U(?![IE])\",\n",
    "            \"(?<=[TDN])EW\",\n",
    "            \"(?<=[TDN])EU\",\n",
    "            \"(?<=[TDN])UI\",\n",
    "            \"(?<=[TDN])UE\",\n",
    "            \"(?<=[TDN])Ea\",\n",
    "            \"(?<=[TDN])IEW\", \"(?<=[TDN])IEU\"\n",
    "        ]\n",
    "    )\n",
    "            \n",
    "    if not iu_indices:  # no suitable letters found\n",
    "        return True\n",
    "    \n",
    "    present_stresses = []\n",
    "    for vowel in goose:\n",
    "        if vowel in pronun:\n",
    "            stress = vowel[-1]\n",
    "            present_stresses.append(stress)\n",
    "    if not present_stresses:\n",
    "        return True\n",
    "\n",
    "    leeway = 1 if len(present_stresses) == 1 else 1  # if there is more than one candidate, don't get them mixed up\n",
    "\n",
    "    changed_anything = False\n",
    "    new_pronun = pronun\n",
    "    for stress in present_stresses:\n",
    "        vowel = goose[0][:-1] + f\"{stress}\"\n",
    "        new_pronun_split = new_pronun.split()\n",
    "        goose_index = new_pronun_split.index(vowel)\n",
    "        if new_pronun_split[goose_index - 1] not in (\"T\", \"D\", \"N\"):\n",
    "            print(f\"yod is already coalesced: {word}, {pronun}\")\n",
    "            continue\n",
    "        if min(abs(iu_index - goose_index) for iu_index in iu_indices) > leeway:\n",
    "            print(f\"probably no candiate '{word}', letter indices: {iu_indices}, sound index: {goose_index}\")\n",
    "            continue\n",
    "        new_pronun = new_pronun.replace(vowel, f\"IW{stress}\")\n",
    "        changed_anything = True\n",
    "    if not changed_anything:\n",
    "        return True\n",
    "    print(f\"change '{word.replace('U', 'u')}', new pronun: '{new_pronun.replace('IW', 'iw')}'\")\n",
    "    return new_pronun\n",
    "    # return True"
   ]
  },
  {
   "cell_type": "code",
   "execution_count": 6,
   "metadata": {},
   "outputs": [
    {
     "name": "stdout",
     "output_type": "stream",
     "text": "n: 'N iw0 R OH1 L AX JH IY0'\nchange 'NEuRON', new pronun: 'N iw1 R OH0 N'\nchange 'NEuRONAL', new pronun: 'N iw1 R OW2 N AX L Z'\nchange 'NEuROSES', new pronun: 'N iw0 R OW1 S IY0 Z'\nchange 'NEuROSIS', new pronun: 'N iw0 R OW1 S AX S'\nchange 'NEuROSuRGEON', new pronun: 'N iw1 R OW0 S ER2 JH AX N'\nchange 'NEuROSuRGERY', new pronun: 'N iw2 R OW0 S ER1 JH AXR IY0'\nchange 'NEuROTIC', new pronun: 'N iw0 R OH1 T IH0 K'\nchange 'NEuTER', new pronun: 'N iw1 T AXR'\nchange 'NEuTRAL', new pronun: 'N iw1 T R AX L'\nchange 'NEuTRALITY', new pronun: 'N iw0 T R AE1 L AX T IY0'\nchange 'NEuTRALIZATION', new pronun: 'N iw2 T R AX L AX Z EY1 SH AX N'\nchange 'NEuTRALIZE', new pronun: 'N iw1 T R AX L AY2 Z'\nchange 'NEuTRALIZED', new pronun: 'N iw1 T R AX L AY2 Z D'\nchange 'NEuTRALIZES', new pronun: 'N iw1 T R AX L AY2 Z IH0 Z'\nchange 'NEuTRALIZING', new pronun: 'N iw1 T R AX L AY2 Z IH0 NG'\nchange 'NEuTRINO', new pronun: 'N iw0 T R IY1 N OW0'\nchange 'NEuTRON', new pronun: 'N iw1 T R OH2 N'\nchange 'NEW', new pronun: 'N iw1'\nchange 'NEWARK', new pronun: 'N iw1 AXR K'\nchange 'NEWBIE', new pronun: 'N iw1 B IY0'\nchange 'NEWBORN', new pronun: 'N iw1 B AO0 R N'\nchange 'NEWBORNS', new pronun: 'N iw1 B AO2 R N Z'\nchange 'NEWBuRG', new pronun: 'N iw1 B AXR G'\nchange 'NEWBuRGH', new pronun: 'N iw1 B AXR G'\nchange 'NEWCASTLE', new pronun: 'N iw1 K AE2 S AX L'\nchange 'NEWCOMER', new pronun: 'N iw1 K AH2 M AXR'\nchange 'NEWELL', new pronun: 'N iw1 AX L'\nchange 'NEWER', new pronun: 'N iw1 AXR'\nchange 'NEWEST', new pronun: 'N iw1 IH0 S T'\nchange 'NEWFANGLED', new pronun: 'N iw2 F AE1 NG G AX L D'\nchange 'NEWFOuND', new pronun: 'N iw1 F AW1 N D'\nchange 'NEWFOuNDLAND', new pronun: 'N iw1 F AX N D L AX N D'\nchange 'NEWISH', new pronun: 'N iw1 IH0 SH'\nchange 'NEWLYWED', new pronun: 'N iw1 L IY0 W EH2 D'\nchange 'NEWMAN', new pronun: 'N iw1 M AX N'\nchange 'NEWNESS', new pronun: 'N iw1 N AX S'\nchange 'NEWPORT', new pronun: 'N iw1 P AO0 R T'\nchange 'NEWS'S', new pronun: 'N iw1 Z ' IH0 Z'\nchange 'NEWSCAST', new pronun: 'N iw1 Z K AE2 S T'\nchange 'NEWSCASTER', new pronun: 'N iw1 Z K AE2 S T AXR'\nchange 'NEWSFLASH', new pronun: 'N iw1 S F L AE0 SH'\nchange 'NEWSFLASHES', new pronun: 'N iw1 S F L AE0 SH IH0 Z'\nyod is already coalesced: NEWSGROUP, N UW1 Z G R UW2 P\nchange 'NEWSGROuP', new pronun: 'N iw1 Z G R UW2 P'\nchange 'NEWSLETTER', new pronun: 'N iw1 Z L EH2 T AXR'\nchange 'NEWSMAGAZINE', new pronun: 'N iw1 Z M AE2 G AX Z IY2 N'\nchange 'NEWSMAN', new pronun: 'N iw1 Z M AE2 N'\nchange 'NEWSMAN', new pronun: 'N iw1 Z M AX N'\nchange 'NEWSMEN', new pronun: 'N iw1 Z M IH0 N'\nchange 'NEWSPAPER', new pronun: 'N iw1 Z P EY2 P AXR'\nchange 'NEWSPAPERMAN', new pronun: 'N iw1 Z P EY2 P AXR M AE2 N'\nchange 'NEWSPAPERMEN', new pronun: 'N iw1 Z P AE2 P AXR M AX N'\nchange 'NEWSPEAK', new pronun: 'N iw1 S P IY2 K'\nchange 'NEWSPEOPLE', new pronun: 'N iw1 Z P IY0 P AX L'\nchange 'NEWSPRINT', new pronun: 'N iw1 Z P R IH2 N T'\nchange 'NEWSREEL', new pronun: 'N iw1 Z R IY2 L'\nyod is already coalesced: NEWSROOM, N UW1 Z R UW2 M\nchange 'NEWSROOM', new pronun: 'N iw1 Z R UW2 M'\nchange 'NEWSSTAND', new pronun: 'N iw1 Z S T AE2 N D'\nchange 'NEWSWIRE', new pronun: 'N iw1 Z W AY2 AXR'\nchange 'NEWSWORTHY', new pronun: 'N iw1 Z W ER2 DH IY0'\nchange 'NEWSY', new pronun: 'N iw1 Z IY0'\nchange 'NEWT', new pronun: 'N iw1 T'\nchange 'NEWTON', new pronun: 'N iw1 T AX N'\nchange 'NEWTONIAN', new pronun: 'N iw0 T OW1 N IY0 AX N'\nyod is already coalesced: NODULE, N OH1 JH UW0 L\nchange 'NONDuRABLE', new pronun: 'N OH0 N D iw1 R AX B AX L'\nchange 'NONRENEWABLE', new pronun: 'N OH0 N R IY0 N iw1 AX B AX L'\nchange 'Nu', new pronun: 'N iw1'\nchange 'NuANCE', new pronun: 'N iw1 AA0 N S'\nchange 'NuANCED', new pronun: 'N iw1 AA0 N S T'\nchange 'NuANCES', new pronun: 'N iw1 AA0 N S IH0 Z'\nchange 'NuCLEAR', new pronun: 'N iw1 K L IY0 AXR'\nchange 'NuCLEATION', new pronun: 'N iw2 K L IY0 EY1 SH AX N'\nchange 'NuCLEI', new pronun: 'N iw1 K L IY0 AY2'\nchange 'NuCLEIC', new pronun: 'N iw0 K L EY1 IH0 K'\nchange 'NuCLEOLI', new pronun: 'N iw1 K L IY0 OW2 L IY0'\nchange 'NuCLEOTIDE', new pronun: 'N iw1 K L IY0 OW0 T AY2 D'\nchange 'NuCLEuS', new pronun: 'N iw1 K L IY0 AX S'\nchange 'NuDE', new pronun: 'N iw1 D'\nchange 'NuDIST', new pronun: 'N iw1 D IH0 S T'\nchange 'NuDITY', new pronun: 'N iw1 D IH0 T IY0'\nchange 'NuGATORY', new pronun: 'N iw1 G AX T AO2 R IY0'\nchange 'NuISANCE', new pronun: 'N iw1 S AX N S'\nchange 'NuISANCES', new pronun: 'N iw1 S AX N S IH0 Z'\nchange 'NuKE', new pronun: 'N iw1 K'\nchange 'NuMED', new pronun: 'N iw0 M EH1 D'\nchange 'NuMERAL', new pronun: 'N iw1 M AXR AX L'\nchange 'NuMERATE', new pronun: 'N iw1 M AXR EY2 T'\nchange 'NuMERATE', new pronun: 'N iw1 M AXR IH0 T'\nchange 'NuMERATOR', new pronun: 'N iw1 M AXR EY2 T AXR'\nchange 'NuMERIC', new pronun: 'N iw0 M EH1 R IH0 K'\nchange 'NuMERICAL', new pronun: 'N iw0 M EH1 R IH0 K AX L'\nchange 'NuMERICALLY', new pronun: 'N iw0 M EH1 R IH0 K L IY0'\nchange 'NuMEROLOGY', new pronun: 'N iw0 M AXR OH1 L AX JH IY0'\nchange 'NuMEROuS', new pronun: 'N iw1 M AXR AX S'\nchange 'NuMIDIA', new pronun: 'N iw0 M IH1 D IY0 AX'\nchange 'NuMISMATIC', new pronun: 'N iw2 M IH0 S M AE1 T IH0 K'\nchange 'NuMISMATIST', new pronun: 'N iw0 M IH1 S M AX T IH2 S T'\nchange 'NuREMBERG', new pronun: 'N iw1 R AX M B AXR G'\nchange 'NuREYEV', new pronun: 'N iw2 R IY1 EH0 V'\nchange 'NuTRIA', new pronun: 'N iw1 T R IY0 AX'\nchange 'NuTRIENT', new pronun: 'N iw1 T R IY0 AX N T'\nchange 'NuTRITION', new pronun: 'N iw0 T R IH1 SH AX N'\nchange 'NuTRITIONAL', new pronun: 'N iw0 T R IH1 SH AX N AX L'\nchange 'NuTRITIONIST', new pronun: 'N iw0 T R IH1 SH AX N IH0 S T'\nchange 'NuTRITIOuS', new pronun: 'N iw0 T R IH1 SH AX S'\nchange 'NuTRITIVE', new pronun: 'N iw1 T R AX T IH0 V'\nchanged 111 entries in N.yaml\nyod is already coalesced: OBITUARIES, OW0 B IH1 CH UW0 EH2 R IY0 Z\nyod is already coalesced: OBITUARY, OW0 B IH1 CH UW0 EH2 R IY0\nchange 'OBTuSE', new pronun: 'OH0 B T iw1 S'\nprobably no candiate 'OPPORTUNE', letter indices: [6], sound index: 4\nprobably no candiate 'OPPORTUNISM', letter indices: [6], sound index: 4\nprobably no candiate 'OPPORTUNIST', letter indices: [6], sound index: 4\nprobably no candiate 'OPPORTUNISTIC', letter indices: [6], sound index: 4\nprobably no candiate 'OPPORTUNITIES', letter indices: [6], sound index: 4\nprobably no candiate 'OPPORTUNITY', letter indices: [6], sound index: 4\nchange 'OuTMANEuVER', new pronun: 'AW0 T M AX N iw1 V AXR'\nchange 'OVERDuE', new pronun: 'OW1 V AXR D iw1'\nchange 'OVERPRODuCE', new pronun: 'OW1 V AXR P R AX D iw1 S'\nchange 'OVERPRODuCED', new pronun: 'OW1 V AXR P R AX D iw1 S T'\nchange 'OVERPRODuCING', new pronun: 'OW2 V AXR P R AX D iw1 S IH0 NG'\nyod is already coalesced: OVERTURES, OW1 V AXR CH UW2 R Z\nchanged 6 entries in O.yaml\nchange 'PADuA', new pronun: 'P AE1 D iw0 AX'\nyod is already coalesced: PARIMUTUEL, P EH2 R IH0 M IW1 CH UW0 AX L\nchange 'PASTEuR', new pronun: 'P AX S T iw1 R'\nyod is already coalesced: PERCEPTUAL, P AXR S EH1 P CH UW0 AX L\nyod is already coalesced: PERPETUAL, P AXR P EH1 CH UW0 AX L\nyod is already coalesced: PERPETUATE, P AXR P EH1 CH UW0 EY2 T\nyod is already coalesced: PERPETUATED, P AXR P EH1 CH UW0 EY2 T IH0 D\nyod is already coalesced: PERPETUATING, P AXR P EH1 CH UW0 EY2 T IH0 NG\nyod is already coalesced: PERPETUATION, P AXR P EH2 CH UW0 EY1 SH AX N\nyod is already coalesced: PERPETUITY, P ER2 P IH0 CH UW1 IH0 T IY0\nchange 'PETuNIA', new pronun: 'P AX T iw1 N Y AX'\nchange 'PITuITARY', new pronun: 'P IH0 T iw1 IH0 T EH2 R IY0'\nchange 'PLATITuDE', new pronun: 'P L AE1 T IH0 T iw2 D'\nchange 'PNEuMATIC', new pronun: 'N iw0 M AE1 T IH0 K'\nchange 'PNEuMONIA', new pronun: 'N iw0 M OW1 N Y AX'\nchange 'PNEuMONIC', new pronun: 'N iw0 M OH1 N IH0 K'\nyod is already coalesced: PREMATURE, P R IY2 M AX CH UW1 R\nyod is already coalesced: PRESUMPTUOUS, P R IH0 Z AH1 M P CH UW0 AX S\nchange 'PRODuCE', new pronun: 'P R AX D iw1 S'\nchange 'PRODuCE', new pronun: 'P R OW1 D iw0 S'\nchange 'PRODuCED', new pronun: 'P R AX D iw1 S T'\nchange 'PRODuCER', new pronun: 'P R AX D iw1 S AXR'\nchange 'PRODuCES', new pronun: 'P R AX D iw1 S IH0 Z'\nchange 'PRODuCING', new pronun: 'P R AX D iw1 S IH0 NG'\nchange 'PROSTITuTE', new pronun: 'P R OH1 S T AX T iw2 T'\nchange 'PROSTITuTION', new pronun: 'P R OH2 S T AX T iw1 SH AX N'\nchange 'PROTuBERANCE', new pronun: 'P R OW0 T iw1 B AXR AX N S'\nchange 'PROTuBERANCES', new pronun: 'P R OW0 T iw1 B AXR AX N S IH0 Z'\nyod is already coalesced: PUNCTUAL, P AH1 NG K CH UW0 AX L\nyod is already coalesced: PUNCTUALITY, P AH2 NG K CH UW0 AE1 L IH0 T IY0\nyod is already coalesced: PUNCTUATE, P AH1 NG K CH UW0 EY2 T\nyod is already coalesced: PUNCTUATED, P AH1 NG K CH UW0 EY2 T IH0 D\nyod is already coalesced: PUNCTUATING, P AH1 NG K CH UW0 EY2 T IH0 NG\nyod is already coalesced: PUNCTUATION, P AH2 NG K CH UW0 EY1 SH AX N\nchanged 17 entries in P.yaml\nchange 'QuINTuPLE', new pronun: 'K W IH0 N T iw1 P AX L'\nchange 'QuINTuPLED', new pronun: 'K W IH0 N T iw1 P AX L D'\nchanged 2 entries in Q.yaml\nchange 'RACONTEuR', new pronun: 'R AE2 K OH0 N T iw1 R'\nchange 'RECONSTITuTE', new pronun: 'R IY0 K OH1 N S T AX T iw2 T'\nchange 'RECONSTITuTED', new pronun: 'R IY0 K OH1 N S T AX T iw2 T IH0 D'\nchange 'RECONSTITuTING', new pronun: 'R IY0 K OH1 N S T IH0 T iw2 T IH0 NG'\nchange 'RECTITuDE', new pronun: 'R EH1 K T IH0 T iw2 D'\nchange 'REDuCE', new pronun: 'R IH0 D iw1 S'\nchange 'REDuCED', new pronun: 'R IH0 D iw1 S T'\nchange 'REDuCES', new pronun: 'R IH0 D iw1 S IH0 Z'\nchange 'REDuCIBLE', new pronun: 'R IH0 D iw1 S AX B AX L'\nchange 'REDuCING', new pronun: 'R IH0 D iw1 S IH0 NG'\nchange 'REINTRODuCE', new pronun: 'R IY2 IH0 N T R AX D iw1 S'\nchange 'REINTRODuCED', new pronun: 'R IY2 IH0 N T R AX D iw1 S T'\nchange 'REINTRODuCES', new pronun: 'R IY2 IH0 N T R AX D iw1 S IH0 Z'\nchange 'REINTRODuCING', new pronun: 'R IY2 IH0 N T R AX D iw1 S IH0 NG'\nchange 'RENEW', new pronun: 'R IH0 N iw1'\nchange 'RENEWABLE', new pronun: 'R IY0 N iw1 AX B AX L'\nchange 'RENEWAL', new pronun: 'R IH0 N iw1 AX L'\nchange 'REPRODuCE', new pronun: 'R IY2 P R AX D iw1 S'\nchange 'REPRODuCED', new pronun: 'R IY2 P R AX D iw1 S T'\nchange 'REPRODuCES', new pronun: 'R IY2 P R AX D iw1 S IH0 Z'\nchange 'REPRODuCING', new pronun: 'R IY2 P R AX D iw1 S IH0 NG'\nyod is already coalesced: RESCHEDULE, R IY0 S K EH1 JH UW0 L\nyod is already coalesced: RESCHEDULED, R IY0 S K EH1 JH UW0 L D\nyod is already coalesced: RESCHEDULING, R IY0 S K EH1 JH UW0 L IH0 NG\nyod is already coalesced: RESCHEDULINGS, R IY0 SH K EH1 JH UW0 L IH0 NG Z\nyod is already coalesced: RESIDUAL, R IH0 Z IH1 JH UW0 AX L\nchange 'RESIDuE', new pronun: 'R EH1 Z AX D iw2'\nchange 'RESTITuTION', new pronun: 'R EH2 S T IH0 T iw1 SH AX N'\nchange 'RETINuE', new pronun: 'R EH1 T AX N iw2'\nchange 'REVENuE', new pronun: 'R EH1 V AX N iw2'\nchange 'RIBONuCLEIC', new pronun: 'R AY2 B OW0 N iw0 K L EY1 IH0 K'\nyod is already coalesced: RITUAL, R IH1 CH UW0 AX L\nyod is already coalesced: RITUALISTIC, R IH2 CH UW0 AX L IH1 S T IH0 K\nyod is already coalesced: RITUALISTICALLY, R IH2 CH UW0 AX L IH1 S T IH0 K AX L IY0\nyod is already coalesced: RITUALISTICALLY, R IH2 CH UW0 AX L IH1 S T IH0 K L IY0\nchanged 26 entries in R.yaml\nchange 'SABOTEuR', new pronun: 'S AE2 B AX T iw1 R'\nyod is already coalesced: SANCTUARIES, S AE1 NG K CH UW0 EH2 R IY0 Z\nyod is already coalesced: SANCTUARY, S AE1 NG K CH UW0 EH2 R IY0\nyod is already coalesced: SCHEDULE, S K EH1 JH UW0 L\nyod is already coalesced: SCHEDULED, S K EH1 JH UW0 L D\nyod is already coalesced: SCHEDULER, S K EH1 JH UW0 L AXR\nyod is already coalesced: SCHEDULING, S K EH1 JH UW0 L IH0 NG\nchange 'SEDuCE', new pronun: 'S IH0 D iw1 S'\nchange 'SEDuCED', new pronun: 'S IH0 D iw1 S T'\nchange 'SEDuCER', new pronun: 'S IH0 D iw1 S AXR'\nchange 'SEDuCING', new pronun: 'S IH0 D iw1 S IH0 NG'\nyod is already coalesced: SEPTUAGENARIAN, S EH0 P CH UW2 AX JH AX N EH1 R IY0 AX N\nchange 'SERVITuDE', new pronun: 'S ER1 V IH0 T iw2 D'\nyod is already coalesced: SITUATE, S IH1 CH UW0 EY2 T\nyod is already coalesced: SITUATED, S IH1 CH UW0 EY2 T IH0 D\nyod is already coalesced: SITUATION, S IH2 CH UW0 EY1 SH AX N\nyod is already coalesced: SITUATIONAL, S IH2 CH UW0 EY1 SH AX N AX L\nchange 'SOLICITuDE', new pronun: 'S AX L IH1 S IH0 T iw2 D'\nchange 'SOLITuDE', new pronun: 'S OH1 L AX T iw2 D'\nyod is already coalesced: SPIRITUAL, S P IH1 R IH0 CH UW0 AX L\nyod is already coalesced: SPIRITUALISM, S P IH1 R IH0 CH UW2 AX L IH2 Z AX M\nyod is already coalesced: SPIRITUALIST, S P IH1 R IH0 CH UW2 AX L IH2 S T\nyod is already coalesced: SPIRITUALITY, S P IH2 R IH0 CH UW2 AE1 L IH0 T IY0\nyod is already coalesced: SPIRITUALLY, S P IH1 R IH0 CH UW2 AX L IY0\nyod is already coalesced: SPIRITUALS, S P IH1 R IH0 CH UW2 AX L Z\nyod is already coalesced: STATUARY, S T AE1 CH UW0 EH2 R IY0\nyod is already coalesced: STATUE, S T AE1 CH UW2\nyod is already coalesced: STATUESQUE, S T AE2 CH UW0 EH1 S K\nyod is already coalesced: STATUETTE, S T AE2 CH UW0 EH1 T\nyod is already coalesced: STATUTE, S T AE1 CH UW0 T\nchange 'STEuBEN', new pronun: 'S T iw1 B IH0 N'\nchange 'STEW', new pronun: 'S T iw1'\nchange 'STEWARD', new pronun: 'S T iw1 AXR D'\nchange 'STEWARDESS', new pronun: 'S T iw1 AXR D AX S'\nchange 'STEWARDESSES', new pronun: 'S T iw1 AXR D AX S IH0 Z'\nchange 'STEWARDSHIP', new pronun: 'S T iw1 AXR D SH IH2 P'\nchange 'STEWART', new pronun: 'S T iw1 AXR T'\nchange 'STuART', new pronun: 'S T iw1 AXR T'\nchange 'STuDENT', new pronun: 'S T iw1 D AX N T'\nchange 'STuDIO', new pronun: 'S T iw1 D IY0 OW0'\nchange 'STuDIOuS', new pronun: 'S T iw1 D IY0 AX S'\nchange 'STuPA', new pronun: 'S T iw1 P AX'\nchange 'STuPENDOuS', new pronun: 'S T iw0 P EH1 N D AX S'\nchange 'STuPID', new pronun: 'S T iw1 P IH0 D'\nchange 'STuPIDER', new pronun: 'S T iw1 P IH0 D AXR'\nchange 'STuPIDEST', new pronun: 'S T iw1 P IH0 D IH0 S T'\nchange 'STuPIDITY', new pronun: 'S T iw0 P IH1 D IH0 T IY0'\nchange 'STuPOR', new pronun: 'S T iw1 P AXR'\nchange 'STuTTGART', new pronun: 'S T iw1 T G AA2 R T'\nchange 'STuTTGART', new pronun: 'SH T iw1 T G AA2 R T'\nchange 'SuBDuE', new pronun: 'S AH0 B D iw1'\nchange 'SuBDuED', new pronun: 'S AH0 B D iw1 D'\nchange 'SuBDuING', new pronun: 'S AH0 B D iw1 IH0 NG'\nchange 'SuBSTITuTE', new pronun: 'S AH1 B S T AX T iw2 T'\nchange 'SuBSTITuTED', new pronun: 'S AH1 B S T AX T iw2 T IH0 D'\nchange 'SuBSTITuTING', new pronun: 'S AH1 B S T IH0 T iw2 T IH0 NG'\nchange 'SuBSTITuTION', new pronun: 'S AH2 B S T IH0 T iw1 SH AX N'\nyod is already coalesced: SUMPTUOUS, S AH1 M P CH UW0 AX S\nyod is already coalesced: SUPERCONDUCTING, S UW1 P AXR K AX N D AH2 K T IH0 NG\nyod is already coalesced: SUPERCONDUCTIVE, S UW0 P AXR K AX N D AH1 K T IH0 V\nyod is already coalesced: SUPERCONDUCTIVITY, S UW2 P AXR K OH2 N D AH2 K T IH1 V AX T IY0\nyod is already coalesced: SUPERCONDUCTOR, S UW1 P AXR K AX N D AH2 K T AXR\nyod is already coalesced: SUPERNATURAL, S UW2 P AXR N AE1 CH AXR AX L\nyod is already coalesced: SUPERNATURALISM, S UW2 P AXR N AE1 CH AXR AX L IH2 Z AX M\nyod is already coalesced: SUPERSTRUCTURE, S UW1 P AXR S T R AH2 K CH AXR\nyod is already coalesced: SUTURE, S UW1 CH AXR\nyod is already coalesced: SUTURED, S UW1 CH AXR D\nyod is already coalesced: SUTURING, S UW1 CH AXR IH0 NG\nchanged 34 entries in S.yaml\nyod is already coalesced: TARANTULA, T AX R AE1 N CH UW0 L AX\nyod is already coalesced: TEMPESTUOUS, T EH2 M P EH1 S CH UW0 AX S\nchange 'TEuTONIC', new pronun: 'T iw0 T OO1 N IH0 K'\nyod is already coalesced: TEXTUAL, T EH1 K S CH UW2 AX L\nchange 'THERMONuCLEAR', new pronun: 'TH ER2 M OW0 N iw1 K L IY0 AXR'\nchange 'TIMBuKTu', new pronun: 'T IH2 M B AX K T iw1'\nyod is already coalesced: TORTUOUS, T AO1 R CH UW0 AX S\nyod is already coalesced: TORTUROUS, T AO1 R CH UW2 AX S\nchange 'TRANSDuCER', new pronun: 'T R AE0 N S D iw1 S AXR'\nyod is already coalesced: TRUDEAU, T R UW0 D OW1\nchange 'TuBA', new pronun: 'T iw1 B AX'\nchange 'TuBAL', new pronun: 'T iw1 B AX L'\nchange 'TuBE', new pronun: 'T iw1 B'\nchange 'TuBER', new pronun: 'T iw1 B AXR'\nchange 'TuBERCuLOSIS', new pronun: 'T iw0 B ER2 K iw0 L OW1 S IH0 S'\nchange 'TuBERS', new pronun: 'T iw1 B AXR S'\nchange 'TuBING', new pronun: 'T iw1 B IH0 NG'\nchange 'TuBuLAR', new pronun: 'T iw1 B Y AX L AXR'\nchange 'TuBuLE', new pronun: 'T iw1 B iw0 L'\nchange 'TuCCI'S', new pronun: 'T iw1 CH IY0 ' S'\nchange 'TuCSON', new pronun: 'T iw1 S OH2 N'\nchange 'TuCuMAN', new pronun: 'T iw1 K iw0 M AX N'\nchange 'TuDOR', new pronun: 'T iw1 D AXR'\nchange 'TuDOR'S', new pronun: 'T iw1 D ER0 ' Z'\nchange 'TuE', new pronun: 'T iw1'\nchange 'TuESDAY', new pronun: 'T iw1 Z D EY2'\nchange 'TuFA', new pronun: 'T iw1 F AX'\nchange 'TuITION', new pronun: 'T iw0 IH1 SH AX N'\nchange 'TuLA', new pronun: 'T iw1 L AX'\nchange 'TuLIP', new pronun: 'T iw1 L IH0 P'\nchange 'TuMESCENT', new pronun: 'T iw0 M EH1 S IH0 N T'\nchange 'TuMOR', new pronun: 'T iw1 M AXR'\nchange 'TuMuLT', new pronun: 'T iw1 M AX L T'\nyod is already coalesced: TUMULTUOUS, T UW2 M AH1 L CH UW0 AX S\nchange 'TuMuLTuOuS', new pronun: 'T iw2 M AH1 L CH UW0 AX S'\nchange 'TuNA', new pronun: 'T iw1 N AX'\nchange 'TuNABLE', new pronun: 'T iw1 N AX B AX L'\nchange 'TuNE', new pronun: 'T iw1 N'\nchange 'TuNED', new pronun: 'T iw1 N D'\nchange 'TuNEFuL', new pronun: 'T iw1 N F AX L'\nchange 'TuNER', new pronun: 'T iw1 N AXR'\nchange 'TuNEuP', new pronun: 'T iw1 N AH2 P'\nchange 'TuNIC', new pronun: 'T iw1 N IH0 K'\nchange 'TuNING', new pronun: 'T iw1 N IH0 NG'\nchange 'TuNIS', new pronun: 'T iw1 N IH0 S'\nchange 'TuNIS', new pronun: 'T iw2 N IY1 S'\nchange 'TuNISIA', new pronun: 'T iw2 N IY1 ZH AX'\nchange 'TuNISIAN', new pronun: 'T iw2 N IY1 ZH AX N'\nchange 'TuPELO', new pronun: 'T iw1 P AX L OW0'\nchange 'TuRIN', new pronun: 'T iw1 R IH0 N'\nchange 'TuRING', new pronun: 'T iw1 R IH0 NG'\nchange 'TuRPITuDE', new pronun: 'T ER1 P IH0 T iw2 D'\nyod is already coalesced: TUSCALOOSA, T AH2 S K AX L UW1 S AX\nchange 'TuSSAuD'S', new pronun: 'T iw0 S OW1 ' Z'\nchange 'TuTELAGE', new pronun: 'T iw1 T IH0 L IH0 JH'\nchange 'TuTOR', new pronun: 'T iw1 T AXR'\nchange 'TuTORIAL', new pronun: 'T iw0 T AO1 R IY0 AX L'\nchange 'TuTSI', new pronun: 'T iw1 T S IY0'\nchange 'TuTTI', new pronun: 'T iw1 T IY0'\nchange 'TuTu', new pronun: 'T iw1 T iw2'\nyod is already coalesced: TUVALU, T UW1 V AA0 L UW2\nchange 'TuVALu', new pronun: 'T iw1 V AA0 L UW2'\nchanged 52 entries in T.yaml\nyod is already coalesced: UBUNTU, UW0 B UH1 T UW0\nchange 'uNCONSTITuTIONAL', new pronun: 'AH2 NG K OH2 N S T AX T iw1 SH AX N AX L'\nyod is already coalesced: UNCTUOUS, AH1 NG CH UW0 AX S\nyod is already coalesced: UNDERGRADUATE, AH2 N D AXR G R AE1 JH UW0 IH0 T\nchange 'uNDuE', new pronun: 'AH0 N D iw1'\nchange 'uNDuLY', new pronun: 'AH0 N D iw1 L IY0'\nyod is already coalesced: UNSCHEDULED, AH0 N S K EH1 JH UW0 L D\nyod is already coalesced: UNUSUAL, AH0 N IW1 ZH UW0 AX L\nchange 'uRDu', new pronun: 'AXR D iw1'\nchanged 4 entries in U.yaml\nchange 'VANuATu', new pronun: 'V AE2 N iw0 AA1 T iw0'\nchange 'VENTuRA', new pronun: 'V EH0 N T iw1 R AX'\nchange 'VENuES', new pronun: 'V EH1 N iw0 Z'\nchange 'VERISIMILITuDE', new pronun: 'V EH2 R AX S AX M IH1 L AX T iw2 D'\nchange 'VICISSITuDE', new pronun: 'V IH2 S IH1 S IH0 T iw0 D'\nchange 'VICISSITuDES', new pronun: 'V IH0 S IH1 S IH0 T iw0 D Z'\nyod is already coalesced: VIRTUAL, V ER1 CH UW0 AX L\nyod is already coalesced: VIRTUE, V ER1 CH UW0\nyod is already coalesced: VIRTUOSITY, V AXR CH UW0 OH1 S IH0 T IY0\nyod is already coalesced: VIRTUOSO, V ER2 CH UW0 OW1 S OW0\nyod is already coalesced: VIRTUOUS, V ER1 CH UW0 AX S\nchange 'VISHNu', new pronun: 'V IH1 SH N iw0'\nchange 'VITuPERATIVE', new pronun: 'V AY2 T iw1 P AXR IH0 T IH0 V'\nchange 'VITuPERATIVE', new pronun: 'V AX T iw1 P AXR IH0 T IH0 V'\nyod is already coalesced: VOLUPTUOUS, V AX L AH1 P CH UW0 AX S\nchanged 8 entries in V.yaml\nyod is already coalesced: WHODUNIT, HH UW0 D AH1 N IH0 T\nnothing changed or removed in W.yaml\nchange 'XANADu', new pronun: 'Z AE1 N AX D iw2'\nchanged 1 entries in X.yaml\nyod is already coalesced: YOUTUBE, Y UW1 T UW2 B\nchange 'YOuTuBE', new pronun: 'Y UW1 T iw2 B'\nchanged 1 entries in Y.yaml\nnothing changed or removed in Z.yaml\nnothing changed or removed in _other.yaml\n"
    }
   ],
   "source": [
    "apply(\n",
    "    find_missing_yod,\n",
    "    save_result=True,\n",
    "    only_first_file=False,\n",
    "    mode=\"transform\",\n",
    ")"
   ]
  },
  {
   "cell_type": "code",
   "execution_count": null,
   "metadata": {},
   "outputs": [],
   "source": []
  }
 ],
 "metadata": {
  "kernelspec": {
   "display_name": "Python 3",
   "language": "python",
   "name": "python3"
  },
  "language_info": {
   "codemirror_mode": {
    "name": "ipython",
    "version": 3
   },
   "file_extension": ".py",
   "mimetype": "text/x-python",
   "name": "python",
   "nbconvert_exporter": "python",
   "pygments_lexer": "ipython3",
   "version": "3.7.1"
  }
 },
 "nbformat": 4,
 "nbformat_minor": 4
}