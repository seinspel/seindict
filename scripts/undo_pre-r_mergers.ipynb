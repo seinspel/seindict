{
 "cells": [
  {
   "cell_type": "code",
   "execution_count": 1,
   "metadata": {},
   "outputs": [],
   "source": [
    "from utils import apply, FindAndReplace, Replacement"
   ]
  },
  {
   "cell_type": "code",
   "execution_count": 18,
   "metadata": {},
   "outputs": [],
   "source": [
    "spelling_patterns = [\n",
    "    # \"(?<=[TDN])U(?![IE])\",\n",
    "    \"U(?=RR[AEIOUaY])\",  # two R followed by a vowel\n",
    "    # \"(?<=[TDN])EU\",\n",
    "]\n",
    "phoneme_patterns = [\n",
    "    Replacement(\n",
    "        # guard=f\"IY{stress}(?= R [AEIOU])\",\n",
    "        guard=f\"ER{stress}(?= [AEIOU])\",\n",
    "        source=f\"ER{stress}\",\n",
    "        target=f\"AH{stress} R\"\n",
    "    )\n",
    "    for stress in (0, 1, 2)\n",
    "]\n",
    "\n",
    "overrides = {\n",
    "}\n",
    "\n",
    "# these are with NURSE vowel\n",
    "exclude = \"\"\"\n",
    "BLURRING\n",
    "BLURRY\n",
    "BURRO\n",
    "BURRY\n",
    "DEMURRING\n",
    "FURRIER\n",
    "FURRY\n",
    "\"\"\"\n",
    "\n",
    "find_lax_r_vowel = FindAndReplace(\n",
    "    spelling_patterns=spelling_patterns,\n",
    "    phoneme_patterns=phoneme_patterns,\n",
    "    overrides=overrides,\n",
    "    exclude=exclude,\n",
    ")"
   ]
  },
  {
   "cell_type": "code",
   "execution_count": 20,
   "metadata": {},
   "outputs": [
    {
     "name": "stdout",
     "output_type": "stream",
     "text": [
      "nothing changed or removed in A.yaml\n",
      "change 'BURROW', new pronun: 'B ah1 r OW0'\n",
      "changed 1 entries in B.yaml\n",
      "change 'CONCURRENCE', new pronun: 'K AX NG K ah1 r AX N S'\n",
      "change 'CONCURRENT', new pronun: 'K AX NG K ah1 r AX N T'\n",
      "change 'CONCURRING', new pronun: 'K AX NG K ah1 r IH0 NG'\n",
      "change 'CURRENCIES', new pronun: 'K ah1 r AX N S IY0 Z'\n",
      "change 'CURRENCY', new pronun: 'K ah1 r AX N S IY0'\n",
      "change 'CURRENT', new pronun: 'K ah1 r AX N T'\n",
      "change 'CURRIED', new pronun: 'K ah1 r IY0 D'\n",
      "change 'CURRIER', new pronun: 'K ah1 r IY0 AXR'\n",
      "change 'CURRY', new pronun: 'K ah1 r IY0'\n",
      "changed 9 entries in C.yaml\n",
      "nothing changed or removed in D.yaml\n",
      "nothing changed or removed in E.yaml\n",
      "change 'FLURRIED', new pronun: 'F L ah1 r IY0 D'\n",
      "change 'FLURRIES', new pronun: 'F L ah1 r IY0 Z'\n",
      "change 'FLURRY', new pronun: 'F L ah1 r IY0'\n",
      "change 'FURROW', new pronun: 'F ah1 r OW0'\n",
      "changed 4 entries in F.yaml\n",
      "nothing changed or removed in G.yaml\n",
      "change 'HURRICANE', new pronun: 'HH ah1 r IH0 K EY2 N'\n",
      "change 'HURRIEDLY', new pronun: 'HH ah1 r IH0 D L IY0'\n",
      "change 'HURRIES', new pronun: 'HH ah1 r IY0 Z'\n",
      "change 'HURRY', new pronun: 'HH ah1 r IY0'\n",
      "changed 4 entries in H.yaml\n",
      "change 'INCURRING', new pronun: 'IH0 NG K ah1 r IH0 NG'\n",
      "changed 1 entries in I.yaml\n",
      "nothing changed or removed in J.yaml\n",
      "nothing changed or removed in K.yaml\n",
      "nothing changed or removed in L.yaml\n",
      "change 'MURRAY', new pronun: 'M ah1 r IY0'\n",
      "change 'MURROW', new pronun: 'M ah1 r OW0'\n",
      "changed 2 entries in M.yaml\n",
      "change 'NONRECURRING', new pronun: 'N OH0 N R IH0 K ah1 r IH0 NG'\n",
      "changed 1 entries in N.yaml\n",
      "change 'OCCURRENCE', new pronun: 'AX K ah1 r AX N S'\n",
      "change 'OCCURRENCES', new pronun: 'AX K ah1 r AX N S IH0 Z'\n",
      "change 'OCCURRING', new pronun: 'AX K ah1 r IH0 NG'\n",
      "changed 3 entries in O.yaml\n",
      "nothing changed or removed in P.yaml\n",
      "nothing changed or removed in Q.yaml\n",
      "change 'RECURRENCE', new pronun: 'R IH0 K ah1 r AX N S'\n",
      "change 'RECURRENCE', new pronun: 'R IY0 K ah1 r AX N S'\n",
      "change 'RECURRENT', new pronun: 'R IH0 K ah1 r AX N T'\n",
      "change 'RECURRENT', new pronun: 'R IY0 K ah1 r AX N T'\n",
      "change 'RECURRING', new pronun: 'R IH0 K ah1 r IH0 NG'\n",
      "change 'RECURRING', new pronun: 'R IY0 K ah1 r IH0 NG'\n",
      "changed 3 entries in R.yaml\n",
      "change 'SCURRIED', new pronun: 'S K ah1 r IY0 D'\n",
      "change 'SCURRILOUS', new pronun: 'S K ah1 r AX L AX S'\n",
      "change 'SCURRY', new pronun: 'S K ah1 r IY0'\n",
      "change 'SLURRING', new pronun: 'S L ah1 r IH0 NG'\n",
      "change 'SLURRY', new pronun: 'S L ah1 r IY0'\n",
      "change 'SURREPTITIOUS', new pronun: 'S ah2 r AX P T IH1 SH AX S'\n",
      "change 'SURREY', new pronun: 'S ah1 r IY0'\n",
      "change 'SURROGACY', new pronun: 'S ah1 r AX G AX S IY0'\n",
      "change 'SURROGATE', new pronun: 'S ah1 r AX G IH0 T'\n",
      "change 'SURROGATE', new pronun: 'S ah1 r AX G IH0 T'\n",
      "change 'SURROGATE', new pronun: 'S ah1 r AX G EY2 T'\n",
      "changed 9 entries in S.yaml\n",
      "change 'TURRET', new pronun: 'T ah1 r IH0 T'\n",
      "changed 1 entries in T.yaml\n",
      "change 'UNDERCURRENT', new pronun: 'AH1 N D AXR K ah2 r AX N T'\n",
      "change 'UNHURRIED', new pronun: 'AH0 N HH ah1 r IY0 D'\n",
      "changed 2 entries in U.yaml\n",
      "nothing changed or removed in V.yaml\n",
      "nothing changed or removed in W.yaml\n",
      "nothing changed or removed in X.yaml\n",
      "nothing changed or removed in Y.yaml\n",
      "nothing changed or removed in Z.yaml\n",
      "nothing changed or removed in _other.yaml\n"
     ]
    }
   ],
   "source": [
    "for_real = True\n",
    "find_lax_r_vowel.is_active = for_real\n",
    "apply(\n",
    "    find_lax_r_vowel,\n",
    "    save_result=for_real,\n",
    "    only_first_file=False,\n",
    "    mode=\"transform\",\n",
    ")"
   ]
  },
  {
   "cell_type": "code",
   "execution_count": null,
   "metadata": {},
   "outputs": [],
   "source": []
  },
  {
   "cell_type": "code",
   "execution_count": 6,
   "metadata": {},
   "outputs": [
    {
     "data": {
      "text/plain": [
       "[Replacement(pattern='EY0(?= R [AEIOU])', source='EY0', target='EH0'),\n",
       " Replacement(pattern='EY1(?= R [AEIOU])', source='EY1', target='EH1'),\n",
       " Replacement(pattern='EY2(?= R [AEIOU])', source='EY2', target='EH2')]"
      ]
     },
     "execution_count": 6,
     "metadata": {},
     "output_type": "execute_result"
    }
   ],
   "source": [
    "phoneme_patterns"
   ]
  },
  {
   "cell_type": "code",
   "execution_count": null,
   "metadata": {},
   "outputs": [],
   "source": []
  }
 ],
 "metadata": {
  "kernelspec": {
   "display_name": "Python 3",
   "language": "python",
   "name": "python3"
  },
  "language_info": {
   "codemirror_mode": {
    "name": "ipython",
    "version": 3
   },
   "file_extension": ".py",
   "mimetype": "text/x-python",
   "name": "python",
   "nbconvert_exporter": "python",
   "pygments_lexer": "ipython3",
   "version": "3.7.7"
  }
 },
 "nbformat": 4,
 "nbformat_minor": 4
}
