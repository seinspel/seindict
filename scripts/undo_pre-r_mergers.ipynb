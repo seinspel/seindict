{
 "cells": [
  {
   "cell_type": "code",
   "execution_count": 1,
   "metadata": {},
   "outputs": [],
   "source": [
    "from utils import apply, FindAndReplace, Replacement"
   ]
  },
  {
   "cell_type": "code",
   "execution_count": 18,
   "metadata": {},
   "outputs": [],
   "source": [
    "spelling_patterns = [\n",
    "    # \"(?<=[TDN])U(?![IE])\",\n",
    "    \"U(?=RR[AEIOUaY])\",  # two R followed by a vowel\n",
    "    # \"(?<=[TDN])EU\",\n",
    "]\n",
    "phoneme_patterns = [\n",
    "    Replacement(\n",
    "        # guard=f\"IY{stress}(?= R [AEIOU])\",\n",
    "        guard=f\"ER{stress}(?= [AEIOU])\",\n",
    "        source=f\"ER{stress}\",\n",
    "        target=f\"AH{stress} R\"\n",
    "    )\n",
    "    for stress in (0, 1, 2)\n",
    "]\n",
    "\n",
    "overrides = {\n",
    "}\n",
    "\n",
    "# these are with NURSE vowel\n",
    "exclude = \"\"\"\n",
    "BLURRING\n",
    "BLURRY\n",
    "BURRO\n",
    "BURRY\n",
    "DEMURRING\n",
    "FURRIER\n",
    "FURRY\n",
    "\"\"\"\n",
    "\n",
    "find_lax_r_vowel = FindAndReplace(\n",
    "    spelling_patterns=spelling_patterns,\n",
    "    phoneme_patterns=phoneme_patterns,\n",
    "    overrides=overrides,\n",
    "    exclude=exclude,\n",
    ")"
   ]
  },
  {
   "cell_type": "code",
   "execution_count": 20,
   "metadata": {},
   "outputs": [
    {
     "name": "stdout",
     "output_type": "stream",
     "text": "nothing changed or removed in A.yaml\nchange 'BURROW', new pronun: 'B ah1 r OW0'\nchanged 1 entries in B.yaml\nchange 'CONCURRENCE', new pronun: 'K AX NG K ah1 r AX N S'\nchange 'CONCURRENT', new pronun: 'K AX NG K ah1 r AX N T'\nchange 'CONCURRING', new pronun: 'K AX NG K ah1 r IH0 NG'\nchange 'CURRENCIES', new pronun: 'K ah1 r AX N S IY0 Z'\nchange 'CURRENCY', new pronun: 'K ah1 r AX N S IY0'\nchange 'CURRENT', new pronun: 'K ah1 r AX N T'\nchange 'CURRIED', new pronun: 'K ah1 r IY0 D'\nchange 'CURRIER', new pronun: 'K ah1 r IY0 AXR'\nchange 'CURRY', new pronun: 'K ah1 r IY0'\nchanged 9 entries in C.yaml\nnothing changed or removed in D.yaml\nnothing changed or removed in E.yaml\nchange 'FLURRIED', new pronun: 'F L ah1 r IY0 D'\nchange 'FLURRIES', new pronun: 'F L ah1 r IY0 Z'\nchange 'FLURRY', new pronun: 'F L ah1 r IY0'\nchange 'FURROW', new pronun: 'F ah1 r OW0'\nchanged 4 entries in F.yaml\nnothing changed or removed in G.yaml\nchange 'HURRICANE', new pronun: 'HH ah1 r IH0 K EY2 N'\nchange 'HURRIEDLY', new pronun: 'HH ah1 r IH0 D L IY0'\nchange 'HURRIES', new pronun: 'HH ah1 r IY0 Z'\nchange 'HURRY', new pronun: 'HH ah1 r IY0'\nchanged 4 entries in H.yaml\nchange 'INCURRING', new pronun: 'IH0 NG K ah1 r IH0 NG'\nchanged 1 entries in I.yaml\nnothing changed or removed in J.yaml\nnothing changed or removed in K.yaml\nnothing changed or removed in L.yaml\nchange 'MURRAY', new pronun: 'M ah1 r IY0'\nchange 'MURROW', new pronun: 'M ah1 r OW0'\nchanged 2 entries in M.yaml\nchange 'NONRECURRING', new pronun: 'N OH0 N R IH0 K ah1 r IH0 NG'\nchanged 1 entries in N.yaml\nchange 'OCCURRENCE', new pronun: 'AX K ah1 r AX N S'\nchange 'OCCURRENCES', new pronun: 'AX K ah1 r AX N S IH0 Z'\nchange 'OCCURRING', new pronun: 'AX K ah1 r IH0 NG'\nchanged 3 entries in O.yaml\nnothing changed or removed in P.yaml\nnothing changed or removed in Q.yaml\nchange 'RECURRENCE', new pronun: 'R IH0 K ah1 r AX N S'\nchange 'RECURRENCE', new pronun: 'R IY0 K ah1 r AX N S'\nchange 'RECURRENT', new pronun: 'R IH0 K ah1 r AX N T'\nchange 'RECURRENT', new pronun: 'R IY0 K ah1 r AX N T'\nchange 'RECURRING', new pronun: 'R IH0 K ah1 r IH0 NG'\nchange 'RECURRING', new pronun: 'R IY0 K ah1 r IH0 NG'\nchanged 3 entries in R.yaml\nchange 'SCURRIED', new pronun: 'S K ah1 r IY0 D'\nchange 'SCURRILOUS', new pronun: 'S K ah1 r AX L AX S'\nchange 'SCURRY', new pronun: 'S K ah1 r IY0'\nchange 'SLURRING', new pronun: 'S L ah1 r IH0 NG'\nchange 'SLURRY', new pronun: 'S L ah1 r IY0'\nchange 'SURREPTITIOUS', new pronun: 'S ah2 r AX P T IH1 SH AX S'\nchange 'SURREY', new pronun: 'S ah1 r IY0'\nchange 'SURROGACY', new pronun: 'S ah1 r AX G AX S IY0'\nchange 'SURROGATE', new pronun: 'S ah1 r AX G IH0 T'\nchange 'SURROGATE', new pronun: 'S ah1 r AX G IH0 T'\nchange 'SURROGATE', new pronun: 'S ah1 r AX G EY2 T'\nchanged 9 entries in S.yaml\nchange 'TURRET', new pronun: 'T ah1 r IH0 T'\nchanged 1 entries in T.yaml\nchange 'UNDERCURRENT', new pronun: 'AH1 N D AXR K ah2 r AX N T'\nchange 'UNHURRIED', new pronun: 'AH0 N HH ah1 r IY0 D'\nchanged 2 entries in U.yaml\nnothing changed or removed in V.yaml\nnothing changed or removed in W.yaml\nnothing changed or removed in X.yaml\nnothing changed or removed in Y.yaml\nnothing changed or removed in Z.yaml\nnothing changed or removed in _other.yaml\n"
    }
   ],
   "source": [
    "for_real = True\n",
    "find_lax_r_vowel.is_active = for_real\n",
    "apply(\n",
    "    find_lax_r_vowel,\n",
    "    save_result=for_real,\n",
    "    only_first_file=False,\n",
    "    mode=\"transform\",\n",
    ")"
   ]
  },
  {
   "cell_type": "code",
   "execution_count": null,
   "metadata": {},
   "outputs": [],
   "source": []
  },
  {
   "cell_type": "code",
   "execution_count": 6,
   "metadata": {},
   "outputs": [
    {
     "data": {
      "text/plain": "[Replacement(pattern='EY0(?= R [AEIOU])', source='EY0', target='EH0'),\n Replacement(pattern='EY1(?= R [AEIOU])', source='EY1', target='EH1'),\n Replacement(pattern='EY2(?= R [AEIOU])', source='EY2', target='EH2')]"
     },
     "execution_count": 6,
     "metadata": {},
     "output_type": "execute_result"
    }
   ],
   "source": [
    "phoneme_patterns"
   ]
  },
  {
   "cell_type": "code",
   "execution_count": null,
   "metadata": {},
   "outputs": [],
   "source": []
  }
 ],
 "metadata": {
  "kernelspec": {
   "display_name": "Python 3",
   "language": "python",
   "name": "python3"
  },
  "language_info": {
   "codemirror_mode": {
    "name": "ipython",
    "version": 3
   },
   "file_extension": ".py",
   "mimetype": "text/x-python",
   "name": "python",
   "nbconvert_exporter": "python",
   "pygments_lexer": "ipython3",
   "version": "3.7.1"
  }
 },
 "nbformat": 4,
 "nbformat_minor": 4
}