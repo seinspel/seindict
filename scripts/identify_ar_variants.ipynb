{
 "cells": [
  {
   "cell_type": "code",
   "execution_count": 1,
   "metadata": {},
   "outputs": [],
   "source": [
    "from utils import apply, FindAndReplace, Replacement, is_vowel"
   ]
  },
  {
   "cell_type": "code",
   "execution_count": 2,
   "metadata": {},
   "outputs": [],
   "source": [
    "def is_open_syllable(pronun, index):\n",
    "    if len(pronun) == index + 1:\n",
    "        return False\n",
    "    return is_vowel(pronun[index + 1])"
   ]
  },
  {
   "cell_type": "code",
   "execution_count": 3,
   "metadata": {},
   "outputs": [],
   "source": [
    "def ar_in_open_syllable(word, pronun, dictionary):\n",
    "    pronun = pronun.split(\" \")\n",
    "    for i, phoneme in enumerate(pronun):\n",
    "        if phoneme in (\"AR0\", \"AR1\", \"AR2\"):\n",
    "            return not is_open_syllable(pronun, i)\n",
    "    return True"
   ]
  },
  {
   "cell_type": "code",
   "execution_count": 4,
   "metadata": {},
   "outputs": [
    {
     "name": "stdout",
     "output_type": "stream",
     "text": [
      "removed 8 entries in A.yaml\n",
      "removed 6 entries in B.yaml\n",
      "removed 9 entries in C.yaml\n",
      "nothing changed or removed in D.yaml\n",
      "nothing changed or removed in E.yaml\n",
      "removed 3 entries in F.yaml\n",
      "removed 4 entries in G.yaml\n",
      "removed 2 entries in H.yaml\n",
      "removed 1 entries in I.yaml\n",
      "removed 2 entries in J.yaml\n",
      "removed 4 entries in K.yaml\n",
      "nothing changed or removed in L.yaml\n",
      "removed 9 entries in M.yaml\n",
      "nothing changed or removed in N.yaml\n",
      "removed 1 entries in O.yaml\n",
      "removed 2 entries in P.yaml\n",
      "nothing changed or removed in Q.yaml\n",
      "removed 1 entries in R.yaml\n",
      "removed 14 entries in S.yaml\n",
      "removed 5 entries in T.yaml\n",
      "nothing changed or removed in U.yaml\n",
      "nothing changed or removed in V.yaml\n",
      "nothing changed or removed in W.yaml\n",
      "nothing changed or removed in X.yaml\n",
      "nothing changed or removed in Y.yaml\n",
      "removed 1 entries in Z.yaml\n",
      "nothing changed or removed in _other.yaml\n",
      "72 deleted in total\n",
      "ALBEMARLE: A1 L B ə M AR2 EL\n",
      "AREQUIPA: AR2 IH0 K EE1 P ə\n",
      "ARIA: AR1 IA0\n",
      "ARIAS'S: AR1 IA0 S ' IH0 Z\n",
      "ARUBA: AR2 OO1 B ə\n",
      "ARUGULA: AR2 OO1 G OO0 L ə\n",
      "ARYAN: AR1 IA0 N\n",
      "ASMARA: A2 Z M AR1 ə\n",
      "BAHRAIN: ['B AR0 EY1 N', 'B AHY0 RR EY1 N']\n",
      "BARI: B AR1 EE0\n",
      "BARRIO: B AR1 EE0 OH0\n",
      "BARRIOS: B AR0 EE1 OH0 Z\n",
      "BARUCH: B AR2 OO1 K\n",
      "BHARAT: B AR1 AH2 T\n",
      "CAGLIARI: K A2 G L EE0 AR1 EE0\n",
      "CALAMARI: K AH0 L AH0 M AR1 EE0\n",
      "CARRELL: K AR0 EY1 L\n",
      "CARRERAS: K AR0 EIR1 AH0 Z\n",
      "CHARON: CH AR1 ə N\n",
      "CHARRING: CH AR1 IH0 NG\n",
      "CHARY: CH AR1 EE0\n",
      "CLARA: K L AR1 ə\n",
      "CZARIST: Z AR1 IH0 S T\n",
      "FARAWAY: F AR1 ə W EY1\n",
      "FERRARA: F əR AR1 ə\n",
      "FERRARO: F əR AR1 OH0\n",
      "GUADALAJARA: ['G W O2 D UH2 L ə H AR1 ə', 'G W O2 D L ə H AR1 ə']\n",
      "GUARANI: ['G W AR2 ə N EE1', 'G W AR2 AH1 N EE0']\n",
      "GUEVARA: ['G EY0 V AR1 ə', 'G ə V AR1 ə']\n",
      "GUITARIST: G IH2 T AR1 IH0 S T\n",
      "HARARE: H əR AR1 EE0\n",
      "HYPERBARIC: ['H AHY0 P əR B AR1 IH0 K', 'H AHY0 P UR1 B EIR1 IH0 K']\n",
      "IMPRESARIO: IH2 M P RR IH0 S AR1 EE0 OH0\n",
      "JARRING: J AR1 IH0 NG\n",
      "JUAREZ: ['W AR1 EH2 Z', 'H W AR1 EH2 Z']\n",
      "KANEMARU'S: K AH2 N EY0 M AR1 OO0 ' Z\n",
      "KARA: K AR1 ə\n",
      "KARACHI: K AR0 AH1 CH EE0\n",
      "KILIMANJARO: ['K IH0 L EE2 M ə N J AR1 OH0', 'K IH2 L ə M ə N J AR1 OH0']\n",
      "MARA: M AR1 ə\n",
      "MARACA: M AR2 AH1 K ə\n",
      "MARASH'S: M AR1 ə SH IH0 ' S\n",
      "MARIACHI: M AR2 EE0 AH1 CH EE0\n",
      "MARIANNA: M AR0 EE0 AH1 N ə\n",
      "MARINADE: M AR1 IH0 N EY2 D\n",
      "MARIO: M AR1 EE0 OH0\n",
      "MASCARA: M A0 S K AR1 ə\n",
      "MUBARAK: ['M OO0 B AR1 IH0 K', 'M EW0 B AR1 IH0 K']\n",
      "ORATORIO: AR2 ə T OR1 EE0 OH0\n",
      "PHARISEE: F AR1 IH0 S EE2\n",
      "PIZARRO: P IH0 Z AR1 OH0\n",
      "ROSARIO: RR OH0 Z AR1 EE0 OH0\n",
      "SAFARI: S ə F AR1 EE0\n",
      "SAHARA: S ə H AR1 ə\n",
      "SAHARAN: S ə H AR1 ə\n",
      "SAMSARA: S ə M S AR1 ə\n",
      "SARAJEVO: S AR2 ə Y EY1 V OH0\n",
      "SARI: S AR1 EE0\n",
      "SARIN: S AR1 IH0 N\n",
      "SCARRING: S K AR1 IH0 NG\n",
      "SCENARIO: S IH0 N AR1 EE0 OH0\n",
      "SHARI: SH AR1 EE0\n",
      "SHARIA: SH AR1 IA0\n",
      "SNARLED: S N AR1 EL D\n",
      "SOIREE: S W AR0 EY1\n",
      "STARRY: S T AR1 EE0\n",
      "TAMARA: T ə M AR1 ə\n",
      "TARA: T AR1 ə\n",
      "THORIUM: TH AR1 IA0 M\n",
      "TIARA: T EE0 AR1 ə\n",
      "TIMISOARA: ['T IH2 M ə S OH0 AR1 ə', 'T IH2 M ə S W AR1 ə']\n",
      "ZARAGOZA: Z AR0 AH0 G OH1 Z ə\n"
     ]
    }
   ],
   "source": [
    "apply(\n",
    "    ar_in_open_syllable,\n",
    "    save_result=False,\n",
    "    only_first_file=False,\n",
    "    mode=\"filter\",\n",
    ")"
   ]
  },
  {
   "cell_type": "code",
   "execution_count": null,
   "metadata": {},
   "outputs": [],
   "source": []
  }
 ],
 "metadata": {
  "kernelspec": {
   "display_name": "Python 3 (ipykernel)",
   "language": "python",
   "name": "python3"
  },
  "language_info": {
   "codemirror_mode": {
    "name": "ipython",
    "version": 3
   },
   "file_extension": ".py",
   "mimetype": "text/x-python",
   "name": "python",
   "nbconvert_exporter": "python",
   "pygments_lexer": "ipython3",
   "version": "3.9.6"
  }
 },
 "nbformat": 4,
 "nbformat_minor": 4
}
